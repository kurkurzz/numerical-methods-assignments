{
 "cells": [
  {
   "cell_type": "code",
   "execution_count": 37,
   "id": "05bb5e4c",
   "metadata": {},
   "outputs": [],
   "source": [
    "import sys\n",
    "import math\n",
    "import numpy as np"
   ]
  },
  {
   "cell_type": "markdown",
   "id": "27ce5ddf",
   "metadata": {},
   "source": [
    "## Finding factors\n",
    "### Bisection"
   ]
  },
  {
   "cell_type": "code",
   "execution_count": 257,
   "id": "483aa9e0",
   "metadata": {},
   "outputs": [],
   "source": [
    "def bisection(fx, interval, n=sys.maxsize, accuracy=None, epsilon_step=None):\n",
    "    a, b = interval\n",
    "    \n",
    "    for i in range(n):\n",
    "        f_a = fx(a)\n",
    "        f_b = fx(b)\n",
    "\n",
    "        c = (a + b)/2\n",
    "        f_c = fx(c)\n",
    "        \n",
    "        epsilon = abs(a-b)\n",
    "        \n",
    "        print(f'iteration: {i}')\n",
    "        print(f'a: {a}, b: {b}, c: {c}')\n",
    "        print(f'f_a:{f_a}, f_b:{f_b}, f_c:{f_c}')\n",
    "        print(f'interval distance: {epsilon}')\n",
    "        \n",
    "        print()\n",
    "        \n",
    "        if (f_a*f_c) < 0:\n",
    "            b = c\n",
    "        elif (f_b*f_c) < 0:\n",
    "            a = c\n",
    "            \n",
    "        if accuracy:        \n",
    "            if epsilon < accuracy:\n",
    "                break\n",
    "    if epsilon_step:\n",
    "        if epsilon < epsilon_step:\n",
    "            return c\n",
    "    else:\n",
    "        return a if abs(fx(a)) < abs(fx(b)) else b"
   ]
  },
  {
   "cell_type": "code",
   "execution_count": 259,
   "id": "ff133130",
   "metadata": {},
   "outputs": [
    {
     "name": "stdout",
     "output_type": "stream",
     "text": [
      "iteration: 0\n",
      "a: -1, b: 1, c: 0.0\n",
      "f_a:1, f_b:1, f_c:0.0\n",
      "interval distance: 2\n",
      "\n",
      "iteration: 1\n",
      "a: -1, b: 1, c: 0.0\n",
      "f_a:1, f_b:1, f_c:0.0\n",
      "interval distance: 2\n",
      "\n",
      "iteration: 2\n",
      "a: -1, b: 1, c: 0.0\n",
      "f_a:1, f_b:1, f_c:0.0\n",
      "interval distance: 2\n",
      "\n"
     ]
    },
    {
     "data": {
      "text/plain": [
       "1"
      ]
     },
     "execution_count": 259,
     "metadata": {},
     "output_type": "execute_result"
    }
   ],
   "source": [
    "def fx(x):\n",
    "    return x**2 \n",
    "\n",
    "bisection(fx, (-1, 1), n=3)"
   ]
  },
  {
   "cell_type": "markdown",
   "id": "f167aa35",
   "metadata": {},
   "source": [
    "### Newton Rhapson"
   ]
  },
  {
   "cell_type": "code",
   "execution_count": 240,
   "id": "7243f28d",
   "metadata": {},
   "outputs": [],
   "source": [
    "def newton_rhapson(fx, diff_fx, n, x0):\n",
    "    x_values = [x0]\n",
    "    for i in range(1, n+1):\n",
    "        x_values.append(x_values[i-1] - (fx(x_values[i-1])/diff_fx(x_values[i-1])))\n",
    "    \n",
    "    return x_values[-1]"
   ]
  },
  {
   "cell_type": "code",
   "execution_count": 242,
   "id": "747b80c2",
   "metadata": {},
   "outputs": [
    {
     "data": {
      "text/plain": [
       "3.1629032258064513"
      ]
     },
     "execution_count": 242,
     "metadata": {},
     "output_type": "execute_result"
    }
   ],
   "source": [
    "def fx(x):\n",
    "    return x**2 - 10\n",
    "\n",
    "def diff_fx(x):\n",
    "    return 2*x\n",
    "\n",
    "newton_rhapson(fx, diff_fx, 1, 3.1)"
   ]
  },
  {
   "cell_type": "markdown",
   "id": "063fa69e",
   "metadata": {},
   "source": [
    "### Secant"
   ]
  },
  {
   "cell_type": "code",
   "execution_count": 262,
   "id": "e315458f",
   "metadata": {},
   "outputs": [],
   "source": [
    "def secant(fx, n, coord_0, coord_1):\n",
    "    x0, y0 = coord_0\n",
    "    x1, y1 = coord_1\n",
    "    for i in range(2, n):\n",
    "        print(f'iteration: {i}')\n",
    "        print(f'x{i-2}: {x0:.6f}, y{i-2}: {y0:.6f}')\n",
    "        print(f'x{i-1}: {x1:.6f}, y{i-1}: {y1:.6f}')\n",
    "        print()\n",
    "        \n",
    "        new_x = x1 - (((x1 - x0) / (y1-y0))*y1)\n",
    "        new_y = fx(new_x)\n",
    "        \n",
    "        x0, y0 = x1, y1\n",
    "        x1, y1 = new_x, new_y\n",
    "    \n",
    "    print(f'x{n-1}: {x1:.6f}, y{n-1}: {y1:.6f}')\n",
    "    return x1"
   ]
  },
  {
   "cell_type": "code",
   "execution_count": 237,
   "id": "d2d9915d",
   "metadata": {},
   "outputs": [
    {
     "name": "stdout",
     "output_type": "stream",
     "text": [
      "iteration: 2\n",
      "x0: 10.000000, y0: 64.000000\n",
      "x1: 20.000000, y1: 324.000000\n",
      "\n",
      "x2: 7.538462, y2: 30.674556\n"
     ]
    },
    {
     "data": {
      "text/plain": [
       "7.538461538461538"
      ]
     },
     "execution_count": 237,
     "metadata": {},
     "output_type": "execute_result"
    }
   ],
   "source": [
    "def fx(x):\n",
    "    return x**2 - 4*x + 4\n",
    "\n",
    "secant(fx, 3, (10, 64), (20,324))"
   ]
  },
  {
   "cell_type": "code",
   "execution_count": 236,
   "id": "5eb6ac74",
   "metadata": {},
   "outputs": [
    {
     "data": {
      "text/plain": [
       "324"
      ]
     },
     "execution_count": 236,
     "metadata": {},
     "output_type": "execute_result"
    }
   ],
   "source": [
    "fx(20)"
   ]
  },
  {
   "cell_type": "markdown",
   "id": "3a104250",
   "metadata": {},
   "source": [
    "### Regula Falsi"
   ]
  },
  {
   "cell_type": "code",
   "execution_count": 263,
   "id": "6320e2f5",
   "metadata": {},
   "outputs": [],
   "source": [
    "def regular_falsi(fx, interval, n=sys.maxsize, accuracy=None, epsilon_step=None):\n",
    "    a, b = interval\n",
    "    \n",
    "    for i in range(n):\n",
    "        f_a = fx(a)\n",
    "        f_b = fx(b)\n",
    "\n",
    "        c = (a*f_b - b*f_a)/(f_b-f_a)\n",
    "        f_c = fx(c)\n",
    "        \n",
    "        epsilon = abs(a-b)\n",
    "        \n",
    "        print(f'iteration: {i}')\n",
    "        print(f'a: {a}, b: {b}, c: {c}')\n",
    "        print(f'f_a:{f_a}, f_b:{f_b}, f_c:{f_c}')\n",
    "        print(f'interval distance: {epsilon}')\n",
    "        \n",
    "        print()\n",
    "        \n",
    "        if (f_a*f_c) < 0:\n",
    "            b = c\n",
    "        elif (f_b*f_c) < 0:\n",
    "            a = c\n",
    "            \n",
    "        if accuracy:        \n",
    "            if epsilon < accuracy:\n",
    "                break\n",
    "    if epsilon_step:\n",
    "            if epsilon < epsilon_step:\n",
    "                return c\n",
    "    else:\n",
    "        return a if abs(fx(a)) < abs(fx(b)) else b"
   ]
  },
  {
   "cell_type": "code",
   "execution_count": 270,
   "id": "9afee88d",
   "metadata": {},
   "outputs": [
    {
     "name": "stdout",
     "output_type": "stream",
     "text": [
      "iteration: 0\n",
      "a: 0, b: 1, c: -0.5\n",
      "f_a:1, f_b:3, f_c:0.375\n",
      "interval distance: 1\n",
      "\n",
      "iteration: 1\n",
      "a: 0, b: 1, c: -0.5\n",
      "f_a:1, f_b:3, f_c:0.375\n",
      "interval distance: 1\n",
      "\n"
     ]
    },
    {
     "data": {
      "text/plain": [
       "0"
      ]
     },
     "execution_count": 270,
     "metadata": {},
     "output_type": "execute_result"
    }
   ],
   "source": [
    "def fx(x):\n",
    "    return x**3 + x + 1\n",
    "\n",
    "regular_falsi(fx, (0, 1), n=2, accuracy=None)"
   ]
  },
  {
   "cell_type": "markdown",
   "id": "12e11637",
   "metadata": {},
   "source": [
    "## Interpolation\n",
    "### Newton Divided"
   ]
  },
  {
   "cell_type": "code",
   "execution_count": 268,
   "id": "b09380de",
   "metadata": {},
   "outputs": [],
   "source": [
    "def _poly_newton_coefficient(x, y):\n",
    "    \"\"\"\n",
    "    x: list or np array contanining x data points\n",
    "    y: list or np array contanining y data points\n",
    "    \"\"\"\n",
    "\n",
    "    m = len(x)\n",
    "\n",
    "    x = np.copy(x)\n",
    "    a = np.copy(y)\n",
    "    for k in range(1, m):\n",
    "        a[k:m] = (a[k:m] - a[k - 1])/(x[k:m] - x[k - 1])\n",
    "\n",
    "    return a\n",
    "\n",
    "def newton_polynomial(x_data, y_data, x):\n",
    "    \"\"\"\n",
    "    x_data: data points at x\n",
    "    y_data: data points at y\n",
    "    x: evaluation point(s)\n",
    "    \"\"\"\n",
    "    a = _poly_newton_coefficient(x_data, y_data)\n",
    "    n = len(x_data) - 1  # Degree of polynomial\n",
    "    \n",
    "    p = a[n]\n",
    "\n",
    "    for k in range(1, n + 1):\n",
    "        p = a[n - k] + (x - x_data[n - k])*p\n",
    "\n",
    "    return p"
   ]
  },
  {
   "cell_type": "code",
   "execution_count": 269,
   "id": "296618b1",
   "metadata": {},
   "outputs": [
    {
     "data": {
      "text/plain": [
       "2"
      ]
     },
     "execution_count": 269,
     "metadata": {},
     "output_type": "execute_result"
    }
   ],
   "source": [
    "x_data = [4, 6, 8, 10]\n",
    "y_data = [1, 3, 8, 16]\n",
    "\n",
    "newton_polynomial(x_data, y_data, 5)"
   ]
  },
  {
   "cell_type": "markdown",
   "id": "c724ab0f",
   "metadata": {},
   "source": [
    "### Lagrange"
   ]
  },
  {
   "cell_type": "code",
   "execution_count": 250,
   "id": "b3cbecd8",
   "metadata": {},
   "outputs": [],
   "source": [
    "def lagrange(coords, x):\n",
    "    pn = 0\n",
    "    n = len(coords)\n",
    "    for i in range(n):\n",
    "        curr_x = coords[i][0]\n",
    "        curr_y = coords[i][1]\n",
    "        l = 1\n",
    "        for j in range(n):\n",
    "            if j != i:\n",
    "                check_x = coords[j][0]\n",
    "                check_y = coords[j][1]\n",
    "                l *= ((x - check_x) / (curr_x - check_x))\n",
    "        print(l)\n",
    "        print(curr_y)\n",
    "        pn += (l * curr_y)\n",
    "            \n",
    "    return pn"
   ]
  },
  {
   "cell_type": "code",
   "execution_count": 251,
   "id": "198e7c30",
   "metadata": {},
   "outputs": [
    {
     "name": "stdout",
     "output_type": "stream",
     "text": [
      "1.0\n",
      "1\n",
      "-2.0\n",
      "0\n",
      "2.0\n",
      "4\n"
     ]
    },
    {
     "data": {
      "text/plain": [
       "9.0"
      ]
     },
     "execution_count": 251,
     "metadata": {},
     "output_type": "execute_result"
    }
   ],
   "source": [
    "coords = [\n",
    "    (0, 1),\n",
    "    (1, 0),\n",
    "    (3, 4),\n",
    "#     (8, 40),\n",
    "#     (12, 60),\n",
    "]\n",
    "    \n",
    "\n",
    "lagrange(coords, 4)"
   ]
  },
  {
   "cell_type": "markdown",
   "id": "07ca2d72",
   "metadata": {},
   "source": [
    "### Least Square Method\n",
    "\n",
    "**Linear**\n"
   ]
  },
  {
   "cell_type": "code",
   "execution_count": 228,
   "id": "09195bab",
   "metadata": {},
   "outputs": [],
   "source": [
    "def lsm_linear(coords, x_input):\n",
    "    coords = np.array(coords)\n",
    "    n = len(coords)\n",
    "    x = coords[:, 0]\n",
    "    y = coords[:, 1]\n",
    "    sum_x = np.sum(x)\n",
    "    sum_y = np.sum(y)\n",
    "    sum_x2 = np.sum(np.power(x, 2))\n",
    "    sum_xy = np.dot(x, y)\n",
    "    \n",
    "    print(f'sum of x: {sum_x}')\n",
    "    print(f'sum of y: {sum_y}')\n",
    "    print(f'sum of x2: {sum_x2}')\n",
    "    print(f'sum of xy: {sum_xy}')\n",
    "    print()\n",
    "    \n",
    "    array_1 = np.array([[sum_x2, -sum_x], [-sum_x, n]])\n",
    "    print(array_1)\n",
    "    array_2 = np.array([[sum_y], [sum_xy]])\n",
    "    print(array_2)\n",
    "\n",
    "    answer = (1/((n*sum_x2)-(sum_x*sum_x))) * np.dot(array_1, array_2)\n",
    "                 \n",
    "    return tuple(answer[:])"
   ]
  },
  {
   "cell_type": "code",
   "execution_count": 261,
   "id": "d56ae84d",
   "metadata": {},
   "outputs": [
    {
     "name": "stdout",
     "output_type": "stream",
     "text": [
      "sum of x: 15\n",
      "sum of y: 25\n",
      "sum of x2: 55\n",
      "sum of xy: 88\n",
      "\n",
      "[[ 55 -15]\n",
      " [-15   5]]\n",
      "[[25]\n",
      " [88]]\n",
      "\n",
      "px = 1.3x + (1.1)\n"
     ]
    }
   ],
   "source": [
    "coords = [\n",
    "    [1, 2],\n",
    "    [2, 5],\n",
    "    [3, 3],\n",
    "    [4, 8],\n",
    "    [5, 7],\n",
    "]\n",
    "a0, a1 = lsm_linear(coords,1)\n",
    "\n",
    "print()\n",
    "print(f'px = {a1[0]}x + ({a0[0]})')"
   ]
  },
  {
   "cell_type": "markdown",
   "id": "99c82932",
   "metadata": {},
   "source": [
    "**Quadratic**"
   ]
  },
  {
   "cell_type": "code",
   "execution_count": 174,
   "id": "8b2c05c8",
   "metadata": {},
   "outputs": [],
   "source": [
    "from sympy import symbols, solve, Eq"
   ]
  },
  {
   "cell_type": "code",
   "execution_count": 249,
   "id": "864ebe11",
   "metadata": {},
   "outputs": [],
   "source": [
    "def lsm_quadratic(coords, x_input):\n",
    "    coords = np.array(coords)\n",
    "    n = len(coords)\n",
    "    x = coords[:, 0]\n",
    "    y = coords[:, 1]\n",
    "    sum_x = np.sum(x)\n",
    "    sum_y = np.sum(y)\n",
    "    sum_x2 = np.sum(np.power(x, 2))\n",
    "    sum_x3 = np.sum(np.power(x, 3))\n",
    "    sum_x4 = np.sum(np.power(x, 4))\n",
    "    sum_xy = np.dot(x, y)\n",
    "    sum_x2y = np.dot(np.power(x, 2), y)\n",
    "    \n",
    "    print(f'sum of x: {sum_x}')\n",
    "    print(f'sum of y: {sum_y}')\n",
    "    print(f'sum of x2: {sum_x2}')\n",
    "    print(f'sum of x3: {sum_x3}')\n",
    "    print(f'sum of x4: {sum_x4}')\n",
    "    print(f'sum of xy: {sum_xy}')\n",
    "    print(f'sum of x2y: {sum_x2y}')\n",
    "    print()\n",
    "    \n",
    "    array_1 = np.array([[n, sum_x, sum_x2], \n",
    "                        [sum_x, sum_x2, sum_x3],\n",
    "                        [sum_x2, sum_x3, sum_x4]\n",
    "                       ])\n",
    "    print(array_1)\n",
    "    array_2 = np.array([[sum_y], [sum_xy], [sum_x2y]])\n",
    "    print(array_2)\n",
    "\n",
    "    a0, a1, a2 = symbols('a0 a1 a2')\n",
    "    answer = solve([\n",
    "        Eq(n*a0 + sum_x*a1 + sum_x2*a2, sum_y), \n",
    "        Eq(sum_x*a0 + sum_x2*a1 + sum_x3*a2, sum_xy),  \n",
    "        Eq(sum_x2*a0 + sum_x3*a1 + sum_x4*a2, sum_x2y)], [a0, a1, a2])\n",
    "                 \n",
    "    return answer"
   ]
  },
  {
   "cell_type": "code",
   "execution_count": 200,
   "id": "8edf54f2",
   "metadata": {},
   "outputs": [
    {
     "name": "stdout",
     "output_type": "stream",
     "text": [
      "sum of x: 20\n",
      "sum of y: 32\n",
      "sum of x2: 92\n",
      "sum of x3: 440\n",
      "sum of x4: 2276\n",
      "sum of xy: 64\n",
      "sum of x2y: 400\n",
      "\n",
      "[[   8   20   92]\n",
      " [  20   92  440]\n",
      " [  92  440 2276]]\n",
      "[[ 32]\n",
      " [ 64]\n",
      " [400]]\n",
      "\n",
      "{a0: 118/21, a1: -26/7, a2: 2/3}\n"
     ]
    }
   ],
   "source": [
    "coords = [\n",
    "    [0, 10],\n",
    "    [15, 6],\n",
    "    [18, 2],\n",
    "    [2, 1],\n",
    "    [3, 0],\n",
    "    [4, 2],\n",
    "    [5, 4],\n",
    "    [6, 7],\n",
    "]\n",
    "answer = lsm_quadratic(coords,1)\n",
    "print()\n",
    "print(answer)"
   ]
  },
  {
   "cell_type": "code",
   "execution_count": null,
   "id": "5cc4f450",
   "metadata": {},
   "outputs": [],
   "source": []
  }
 ],
 "metadata": {
  "kernelspec": {
   "display_name": "Python 3 (ipykernel)",
   "language": "python",
   "name": "python3"
  },
  "language_info": {
   "codemirror_mode": {
    "name": "ipython",
    "version": 3
   },
   "file_extension": ".py",
   "mimetype": "text/x-python",
   "name": "python",
   "nbconvert_exporter": "python",
   "pygments_lexer": "ipython3",
   "version": "3.8.12"
  }
 },
 "nbformat": 4,
 "nbformat_minor": 5
}
