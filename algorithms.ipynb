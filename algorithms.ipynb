{
 "cells": [
  {
   "cell_type": "code",
   "execution_count": 37,
   "id": "05bb5e4c",
   "metadata": {},
   "outputs": [],
   "source": [
    "import sys\n",
    "import math\n",
    "import numpy as np"
   ]
  },
  {
   "cell_type": "markdown",
   "id": "27ce5ddf",
   "metadata": {},
   "source": [
    "## Finding factors\n",
    "### Bisection"
   ]
  },
  {
   "cell_type": "code",
   "execution_count": 29,
   "id": "483aa9e0",
   "metadata": {},
   "outputs": [],
   "source": [
    "def bisection(fx, interval, n=sys.maxsize, accuracy=None, epsilon_step=None):\n",
    "    a, b = interval\n",
    "    \n",
    "    for i in range(n):\n",
    "        f_a = fx(a)\n",
    "        f_b = fx(b)\n",
    "\n",
    "        c = (a + b)/2\n",
    "        f_c = fx(c)\n",
    "        \n",
    "        epsilon = abs(a-b)\n",
    "        \n",
    "        print(f'iteration: {i}')\n",
    "        print(f'a: {a}, b: {b}, c: {c}')\n",
    "        print(f'f_a:{f_a}, f_b:{f_b}, f_c:{f_c}')\n",
    "        print(f'interval distance: {epsilon}')\n",
    "        \n",
    "        print()\n",
    "        \n",
    "        if (f_a*f_c) < 0:\n",
    "            b = c\n",
    "        elif (f_b*f_c) < 0:\n",
    "            a = c\n",
    "            \n",
    "        if accuracy:        \n",
    "            if epsilon < accuracy:\n",
    "                break\n",
    "    if epsilon_step:\n",
    "        if epsilon < epsilon_step:\n",
    "            return c\n",
    "    else:\n",
    "        return a if abs(fx(a)) < abs(fx(b)) else b"
   ]
  },
  {
   "cell_type": "code",
   "execution_count": 30,
   "id": "ff133130",
   "metadata": {},
   "outputs": [
    {
     "name": "stdout",
     "output_type": "stream",
     "text": [
      "iteration: 0\n",
      "a: 1, b: 2, c: 1.5\n",
      "f_a:-2, f_b:1, f_c:-0.75\n",
      "interval distance: 1\n",
      "\n",
      "iteration: 1\n",
      "a: 1.5, b: 2, c: 1.75\n",
      "f_a:-0.75, f_b:1, f_c:0.0625\n",
      "interval distance: 0.5\n",
      "\n",
      "iteration: 2\n",
      "a: 1.5, b: 1.75, c: 1.625\n",
      "f_a:-0.75, f_b:0.0625, f_c:-0.359375\n",
      "interval distance: 0.25\n",
      "\n",
      "iteration: 3\n",
      "a: 1.625, b: 1.75, c: 1.6875\n",
      "f_a:-0.359375, f_b:0.0625, f_c:-0.15234375\n",
      "interval distance: 0.125\n",
      "\n",
      "iteration: 4\n",
      "a: 1.6875, b: 1.75, c: 1.71875\n",
      "f_a:-0.15234375, f_b:0.0625, f_c:-0.0458984375\n",
      "interval distance: 0.0625\n",
      "\n",
      "iteration: 5\n",
      "a: 1.71875, b: 1.75, c: 1.734375\n",
      "f_a:-0.0458984375, f_b:0.0625, f_c:0.008056640625\n",
      "interval distance: 0.03125\n",
      "\n",
      "iteration: 6\n",
      "a: 1.71875, b: 1.734375, c: 1.7265625\n",
      "f_a:-0.0458984375, f_b:0.008056640625, f_c:-0.01898193359375\n",
      "interval distance: 0.015625\n",
      "\n"
     ]
    },
    {
     "data": {
      "text/plain": [
       "1.734375"
      ]
     },
     "execution_count": 30,
     "metadata": {},
     "output_type": "execute_result"
    }
   ],
   "source": [
    "def fx(x):\n",
    "    return x**2 - 3\n",
    "\n",
    "bisection(fx, (1, 2), n=7)"
   ]
  },
  {
   "cell_type": "markdown",
   "id": "f167aa35",
   "metadata": {},
   "source": [
    "### Newton Rhapson"
   ]
  },
  {
   "cell_type": "code",
   "execution_count": 11,
   "id": "7243f28d",
   "metadata": {},
   "outputs": [],
   "source": [
    "def newton_rhapson(fx, diff_fx, n, x0):\n",
    "    x_values = [x0]\n",
    "    for i in range(1, n+1):\n",
    "        x_values.append(x_values[i-1] - (fx(x_values[i-1])/diff_fx(x_values[i-1])))\n",
    "    \n",
    "    return x_values[-1]"
   ]
  },
  {
   "cell_type": "code",
   "execution_count": 12,
   "id": "747b80c2",
   "metadata": {},
   "outputs": [
    {
     "data": {
      "text/plain": [
       "1.325200398950907"
      ]
     },
     "execution_count": 12,
     "metadata": {},
     "output_type": "execute_result"
    }
   ],
   "source": [
    "def fx(x):\n",
    "    return x**3 - x - 1\n",
    "\n",
    "def diff_fx(x):\n",
    "    return 3*(x**2) - 1\n",
    "\n",
    "newton_rhapson(fx, diff_fx, 3, 1)"
   ]
  },
  {
   "cell_type": "markdown",
   "id": "063fa69e",
   "metadata": {},
   "source": [
    "### Secant"
   ]
  },
  {
   "cell_type": "code",
   "execution_count": 13,
   "id": "e315458f",
   "metadata": {},
   "outputs": [],
   "source": [
    "def secant(fx, n, coord_0, coord_1):\n",
    "    x0, y0 = coord_0\n",
    "    x1, y1 = coord_1\n",
    "    for i in range(2, n):\n",
    "        print(f'iteration: {i}')\n",
    "        print(f'x{i-2}: {x0:.6f}, y{i-2}: {y0:.6f}')\n",
    "        print(f'x{i-1}: {x1:.6f}, y{i-1}: {y1:.6f}')\n",
    "        print()\n",
    "        \n",
    "        new_x = x1 - (((x1 - x0) / (y1-y0))*y1)\n",
    "        new_y = fx(new_x)\n",
    "        \n",
    "        x0, y0 = x1, y1\n",
    "        x1, y1 = new_x, new_y\n",
    "    \n",
    "    print(f'x{n-1}: {x1:.6f}, y{n-1}: {y1:.6f}')\n",
    "    return x1"
   ]
  },
  {
   "cell_type": "code",
   "execution_count": 15,
   "id": "d2d9915d",
   "metadata": {},
   "outputs": [
    {
     "name": "stdout",
     "output_type": "stream",
     "text": [
      "iteration: 2\n",
      "x0: 1.000000, y0: -1.000000\n",
      "x1: 1.500000, y1: 0.250000\n",
      "\n",
      "x2: 1.400000, y2: -0.040000\n"
     ]
    },
    {
     "data": {
      "text/plain": [
       "1.4"
      ]
     },
     "execution_count": 15,
     "metadata": {},
     "output_type": "execute_result"
    }
   ],
   "source": [
    "def fx(x):\n",
    "    return x**2 - 2\n",
    "\n",
    "secant(fx, 3, (1, -1), (1.5, 0.25))"
   ]
  },
  {
   "cell_type": "markdown",
   "id": "3a104250",
   "metadata": {},
   "source": [
    "### Regula Falsi"
   ]
  },
  {
   "cell_type": "code",
   "execution_count": 167,
   "id": "6320e2f5",
   "metadata": {},
   "outputs": [],
   "source": [
    "def regular_falsi(fx, interval, n=sys.maxsize, accuracy=None, epsilon_step=None):\n",
    "    a, b = interval\n",
    "    \n",
    "    for i in range(n):\n",
    "        f_a = fx(a)\n",
    "        f_b = fx(b)\n",
    "\n",
    "        c = (a*f_b - b*f_a)/(f_b-f_a)\n",
    "        f_c = fx(c)\n",
    "        \n",
    "        epsilon = abs(a-b)\n",
    "        \n",
    "        print(f'iteration: {i}')\n",
    "        print(f'a: {a}, b: {b}, c: {c}')\n",
    "        print(f'f_a:{f_a}, f_b:{f_b}, f_c:{f_c}')\n",
    "        print(f'interval distance: {epsilon}')\n",
    "        \n",
    "        print()\n",
    "        \n",
    "        if (f_a*f_c) < 0:\n",
    "            b = c\n",
    "        elif (f_b*f_c) < 0:\n",
    "            a = c\n",
    "            \n",
    "        if accuracy:        \n",
    "            if epsilon < accuracy:\n",
    "                break\n",
    "    if epsilon_step:\n",
    "            if epsilon < epsilon_step:\n",
    "                return c\n",
    "    else:\n",
    "        return a if abs(fx(a)) < abs(fx(b)) else b"
   ]
  },
  {
   "cell_type": "code",
   "execution_count": 168,
   "id": "9afee88d",
   "metadata": {},
   "outputs": [
    {
     "name": "stdout",
     "output_type": "stream",
     "text": [
      "iteration: 0\n",
      "a: -1, b: -0.5, c: -0.6363636363636364\n",
      "f_a:-1, f_b:0.375, f_c:0.10593538692712245\n",
      "interval distance: 0.5\n",
      "\n",
      "iteration: 1\n",
      "a: -1, b: -0.6363636363636364, c: -0.6711956521739131\n",
      "f_a:-1, f_b:0.10593538692712245, f_c:0.026428287870109646\n",
      "interval distance: 0.36363636363636365\n",
      "\n",
      "iteration: 2\n",
      "a: -1, b: -0.6711956521739131, c: -0.6796616463987246\n",
      "f_a:-1, f_b:0.026428287870109646, f_c:0.00637548421005496\n",
      "interval distance: 0.3288043478260869\n",
      "\n",
      "iteration: 3\n",
      "a: -1, b: -0.6796616463987246, c: -0.6816910202728935\n",
      "f_a:-1, f_b:0.00637548421005496, f_c:0.0015253580878831219\n",
      "interval distance: 0.3203383536012754\n",
      "\n",
      "iteration: 4\n",
      "a: -1, b: -0.6816910202728935, c: -0.68217581596254\n",
      "f_a:-1, f_b:0.0015253580878831219, f_c:0.000364224116321088\n",
      "interval distance: 0.3183089797271065\n",
      "\n",
      "iteration: 5\n",
      "a: -1, b: -0.68217581596254, c: -0.6822915330481633\n",
      "f_a:-1, f_b:0.000364224116321088, f_c:8.69279819311064e-05\n",
      "interval distance: 0.31782418403746004\n",
      "\n",
      "iteration: 6\n",
      "a: -1, b: -0.6822915330481633, c: -0.6823191484034907\n",
      "f_a:-1, f_b:8.69279819311064e-05, f_c:2.0744421157292692e-05\n",
      "interval distance: 0.31770846695183674\n",
      "\n",
      "iteration: 7\n",
      "a: -1, b: -0.6823191484034907, c: -0.6823257383721648\n",
      "f_a:-1, f_b:2.0744421157292692e-05, f_c:4.950297601613585e-06\n",
      "interval distance: 0.3176808515965093\n",
      "\n",
      "iteration: 8\n",
      "a: -1, b: -0.6823257383721648, c: -0.6823273109465156\n",
      "f_a:-1, f_b:4.950297601613585e-06, f_c:1.1812953530920822e-06\n",
      "interval distance: 0.3176742616278352\n",
      "\n",
      "iteration: 9\n",
      "a: -1, b: -0.6823273109465156, c: -0.6823276862113437\n",
      "f_a:-1, f_b:1.1812953530920822e-06, f_c:2.818934691228847e-07\n",
      "interval distance: 0.31767268905348445\n",
      "\n",
      "iteration: 10\n",
      "a: -1, b: -0.6823276862113437, c: -0.6823277757610691\n",
      "f_a:-1, f_b:2.818934691228847e-07, f_c:6.726844248294839e-08\n",
      "interval distance: 0.31767231378865635\n",
      "\n",
      "iteration: 11\n",
      "a: -1, b: -0.6823277757610691, c: -0.6823277971303835\n",
      "f_a:-1, f_b:6.726844248294839e-08, f_c:1.6052315476855483e-08\n",
      "interval distance: 0.31767222423893093\n",
      "\n",
      "iteration: 12\n",
      "a: -1, b: -0.6823277971303835, c: -0.6823278022297579\n",
      "f_a:-1, f_b:1.6052315476855483e-08, f_c:3.830575190377772e-09\n",
      "interval distance: 0.3176722028696165\n",
      "\n",
      "iteration: 13\n",
      "a: -1, b: -0.6823278022297579, c: -0.6823278034466251\n",
      "f_a:-1, f_b:3.830575190377772e-09, f_c:9.140926904294133e-10\n",
      "interval distance: 0.31767219777024214\n",
      "\n",
      "iteration: 14\n",
      "a: -1, b: -0.6823278034466251, c: -0.6823278037370069\n",
      "f_a:-1, f_b:9.140926904294133e-10, f_c:2.181308467186227e-10\n",
      "interval distance: 0.31767219655337486\n",
      "\n"
     ]
    },
    {
     "data": {
      "text/plain": [
       "-0.6823278037370069"
      ]
     },
     "execution_count": 168,
     "metadata": {},
     "output_type": "execute_result"
    }
   ],
   "source": [
    "def fx(x):\n",
    "    return x**3 + x + 1\n",
    "\n",
    "regular_falsi(fx, (-1, -0.5), n=15, accuracy=None)"
   ]
  },
  {
   "cell_type": "markdown",
   "id": "12e11637",
   "metadata": {},
   "source": [
    "## Interpolation\n",
    "### Newton Divided"
   ]
  },
  {
   "cell_type": "code",
   "execution_count": 35,
   "id": "b09380de",
   "metadata": {},
   "outputs": [],
   "source": [
    "def _poly_newton_coefficient(x, y):\n",
    "    \"\"\"\n",
    "    x: list or np array contanining x data points\n",
    "    y: list or np array contanining y data points\n",
    "    \"\"\"\n",
    "\n",
    "    m = len(x)\n",
    "\n",
    "    x = np.copy(x)\n",
    "    a = np.copy(y)\n",
    "    for k in range(1, m):\n",
    "        a[k:m] = (a[k:m] - a[k - 1])/(x[k:m] - x[k - 1])\n",
    "\n",
    "    return a\n",
    "\n",
    "def newton_polynomial(x_data, y_data, x):\n",
    "    \"\"\"\n",
    "    x_data: data points at x\n",
    "    y_data: data points at y\n",
    "    x: evaluation point(s)\n",
    "    \"\"\"\n",
    "    a = _poly_newton_coefficient(x_data, y_data)\n",
    "    n = len(x_data) - 1  # Degree of polynomial\n",
    "    p = a[n]\n",
    "\n",
    "    for k in range(1, n + 1):\n",
    "        p = a[n - k] + (x - x_data[n - k])*p\n",
    "\n",
    "    return p"
   ]
  },
  {
   "cell_type": "code",
   "execution_count": 39,
   "id": "296618b1",
   "metadata": {},
   "outputs": [
    {
     "data": {
      "text/plain": [
       "392.07057891555553"
      ]
     },
     "execution_count": 39,
     "metadata": {},
     "output_type": "execute_result"
    }
   ],
   "source": [
    "x_data = [0, 10, 15, 20, 22.5, 30]\n",
    "y_data = [0, 227.04, 362.78, 517.35, 602.97, 901.67]\n",
    "\n",
    "newton_polynomial(x_data, y_data, 16)"
   ]
  },
  {
   "cell_type": "markdown",
   "id": "c724ab0f",
   "metadata": {},
   "source": [
    "### Lagrange"
   ]
  },
  {
   "cell_type": "code",
   "execution_count": 53,
   "id": "b3cbecd8",
   "metadata": {},
   "outputs": [],
   "source": [
    "def lagrange(coords, x):\n",
    "    pn = 0\n",
    "    n = len(coords)\n",
    "    for i in range(n):\n",
    "        curr_x = coords[i][0]\n",
    "        curr_y = coords[i][1]\n",
    "        l = 1\n",
    "        for j in range(n):\n",
    "            if j != i:\n",
    "                check_x = coords[j][0]\n",
    "                check_y = coords[j][1]\n",
    "                l *= ((x - check_x) / (curr_x - check_x))\n",
    "        pn += (l * curr_y)\n",
    "            \n",
    "    return pn"
   ]
  },
  {
   "cell_type": "code",
   "execution_count": 54,
   "id": "198e7c30",
   "metadata": {},
   "outputs": [
    {
     "data": {
      "text/plain": [
       "2.650390625"
      ]
     },
     "execution_count": 54,
     "metadata": {},
     "output_type": "execute_result"
    }
   ],
   "source": [
    "coords = [\n",
    "    (0, 1),\n",
    "    (1, 2.25),\n",
    "    (2, 3.75),\n",
    "    (3, 4.25)\n",
    "]\n",
    "    \n",
    "\n",
    "lagrange(coords, 1.25)"
   ]
  },
  {
   "cell_type": "markdown",
   "id": "07ca2d72",
   "metadata": {},
   "source": [
    "### Least Square Method\n",
    "\n",
    "**Linear**\n"
   ]
  },
  {
   "cell_type": "code",
   "execution_count": 158,
   "id": "09195bab",
   "metadata": {},
   "outputs": [],
   "source": [
    "def lsm_linear(coords, x_input):\n",
    "    coords = np.array(coords)\n",
    "    n = len(coords)\n",
    "    x = coords[:, 0]\n",
    "    y = coords[:, 1]\n",
    "    sum_x = np.sum(x)\n",
    "    sum_y = np.sum(y)\n",
    "    sum_x2 = np.sum(np.power(x, 2))\n",
    "    sum_xy = np.dot(x, y)\n",
    "    \n",
    "    print(f'sum of x: {sum_x}')\n",
    "    print(f'sum of y: {sum_y}')\n",
    "    print(f'sum of x2: {sum_x2}')\n",
    "    print(f'sum of xy: {sum_xy}')\n",
    "    print()\n",
    "    \n",
    "    array_1 = np.array([[sum_x2, -sum_x], [-sum_x, n]])\n",
    "    print(array_1)\n",
    "    array_2 = np.array([[sum_y], [sum_xy]])\n",
    "    print(array_2)\n",
    "\n",
    "    answer = (1/((n*sum_x2)-(sum_x*sum_x))) * np.dot(array_1, array_2)\n",
    "                 \n",
    "    return tuple(answer[:])"
   ]
  },
  {
   "cell_type": "code",
   "execution_count": 159,
   "id": "d56ae84d",
   "metadata": {},
   "outputs": [
    {
     "name": "stdout",
     "output_type": "stream",
     "text": [
      "sum of x: 64\n",
      "sum of y: 70\n",
      "sum of x2: 528\n",
      "sum of xy: 317\n",
      "\n",
      "[[528 -64]\n",
      " [-64  10]]\n",
      "[[ 70]\n",
      " [317]]\n",
      "\n",
      "px = -1.106418918918919x + (14.081081081081082)\n"
     ]
    }
   ],
   "source": [
    "coords = [\n",
    "    [8, 3],\n",
    "    [2, 10],\n",
    "    [11, 3],\n",
    "    [6, 6],\n",
    "    [5, 8],\n",
    "    [4, 12],\n",
    "    [12, 1],\n",
    "    [9, 4],\n",
    "    [6, 9],\n",
    "    [1, 14]\n",
    "]\n",
    "a0, a1 = lsm_linear(coords,1)\n",
    "\n",
    "print()\n",
    "print(f'px = {a1[0]}x + ({a0[0]})')"
   ]
  },
  {
   "cell_type": "markdown",
   "id": "99c82932",
   "metadata": {},
   "source": [
    "**Quadratic**"
   ]
  },
  {
   "cell_type": "code",
   "execution_count": 174,
   "id": "8b2c05c8",
   "metadata": {},
   "outputs": [],
   "source": [
    "from sympy import symbols, solve, Eq"
   ]
  },
  {
   "cell_type": "code",
   "execution_count": 199,
   "id": "864ebe11",
   "metadata": {},
   "outputs": [],
   "source": [
    "def lsm_quadratic(coords, x_input):\n",
    "    coords = np.array(coords)\n",
    "    n = len(coords)\n",
    "    x = coords[:, 0]\n",
    "    y = coords[:, 1]\n",
    "    sum_x = np.sum(x)\n",
    "    sum_y = np.sum(y)\n",
    "    sum_x2 = np.sum(np.power(x, 2))\n",
    "    sum_x3 = np.sum(np.power(x, 3))\n",
    "    sum_x4 = np.sum(np.power(x, 4))\n",
    "    sum_xy = np.dot(x, y)\n",
    "    sum_x2y = np.dot(np.power(x, 2), y)\n",
    "    \n",
    "    print(f'sum of x: {sum_x}')\n",
    "    print(f'sum of y: {sum_y}')\n",
    "    print(f'sum of x2: {sum_x2}')\n",
    "    print(f'sum of x3: {sum_x3}')\n",
    "    print(f'sum of x4: {sum_x4}')\n",
    "    print(f'sum of xy: {sum_xy}')\n",
    "    print(f'sum of x2y: {sum_x2y}')\n",
    "    print()\n",
    "    \n",
    "    array_1 = np.array([[n, sum_x, sum_x2], \n",
    "                        [sum_x, sum_x2, sum_x3],\n",
    "                        [sum_x2, sum_x3, sum_x4]\n",
    "                       ])\n",
    "    print(array_1)\n",
    "    array_2 = np.array([[sum_y], [sum_xy], [sum_x2y]])\n",
    "    print(array_2)\n",
    "\n",
    "    a0, a1, a2 = symbols('a0 a1 a2')\n",
    "    answer = solve([\n",
    "        Eq(n*a0 + sum_x*a1 + sum_x2*a2, sum_y), \n",
    "        Eq(sum_x*a0 + sum_x2*a1 + sum_x3*a2, sum_xy),  \n",
    "        Eq(sum_x2*a0 + sum_x3*a1 + sum_x4*a2, sum_x2y)], [a0, a1, a2])\n",
    "                 \n",
    "    return answer"
   ]
  },
  {
   "cell_type": "code",
   "execution_count": 200,
   "id": "8edf54f2",
   "metadata": {},
   "outputs": [
    {
     "name": "stdout",
     "output_type": "stream",
     "text": [
      "sum of x: 20\n",
      "sum of y: 32\n",
      "sum of x2: 92\n",
      "sum of x3: 440\n",
      "sum of x4: 2276\n",
      "sum of xy: 64\n",
      "sum of x2y: 400\n",
      "\n",
      "[[   8   20   92]\n",
      " [  20   92  440]\n",
      " [  92  440 2276]]\n",
      "[[ 32]\n",
      " [ 64]\n",
      " [400]]\n",
      "\n",
      "{a0: 118/21, a1: -26/7, a2: 2/3}\n"
     ]
    }
   ],
   "source": [
    "coords = [\n",
    "    [-1, 10],\n",
    "    [0, 6],\n",
    "    [1, 2],\n",
    "    [2, 1],\n",
    "    [3, 0],\n",
    "    [4, 2],\n",
    "    [5, 4],\n",
    "    [6, 7],\n",
    "]\n",
    "answer = lsm_quadratic(coords,1)\n",
    "print()\n",
    "print(answer)"
   ]
  },
  {
   "cell_type": "code",
   "execution_count": null,
   "id": "5cc4f450",
   "metadata": {},
   "outputs": [],
   "source": []
  }
 ],
 "metadata": {
  "kernelspec": {
   "display_name": "Python 3 (ipykernel)",
   "language": "python",
   "name": "python3"
  },
  "language_info": {
   "codemirror_mode": {
    "name": "ipython",
    "version": 3
   },
   "file_extension": ".py",
   "mimetype": "text/x-python",
   "name": "python",
   "nbconvert_exporter": "python",
   "pygments_lexer": "ipython3",
   "version": "3.8.12"
  }
 },
 "nbformat": 4,
 "nbformat_minor": 5
}
