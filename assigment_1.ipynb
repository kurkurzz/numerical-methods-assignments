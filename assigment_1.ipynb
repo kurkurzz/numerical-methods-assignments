{
 "cells": [
  {
   "cell_type": "code",
   "execution_count": 60,
   "id": "constitutional-medicine",
   "metadata": {},
   "outputs": [],
   "source": [
    "import sys\n",
    "import math"
   ]
  },
  {
   "cell_type": "markdown",
   "id": "moved-empire",
   "metadata": {},
   "source": [
    "## Question 1"
   ]
  },
  {
   "cell_type": "code",
   "execution_count": 61,
   "id": "quantitative-chapel",
   "metadata": {},
   "outputs": [],
   "source": [
    "def bisection(fx, interval, max_iteration=sys.maxsize, accuracy=None):\n",
    "\n",
    "    a, b = interval\n",
    "    \n",
    "    for i in range(max_iteration):\n",
    "        f_a = fx(a)\n",
    "        f_b = fx(b)\n",
    "\n",
    "        c = (a + b)/2\n",
    "        f_c = fx(c)\n",
    "        \n",
    "        epsilon = abs(a-b)\n",
    "        \n",
    "        print(f'iteration: {i}')\n",
    "        print(f'a: {a}, b: {b}, c: {c}')\n",
    "        print(f'f_a:{f_a:.6f}, f_b:{f_b:.6f}, f_c:{f_c:.6f}')\n",
    "        print(f'interval distance: {epsilon}')\n",
    "        \n",
    "        print()\n",
    "        \n",
    "        if (f_a*f_c) < 0:\n",
    "            b = c\n",
    "        elif (f_b*f_c) < 0:\n",
    "            a = c\n",
    "                \n",
    "        if epsilon < accuracy:\n",
    "            break\n",
    "\n",
    "    return a if abs(fx(a)) < abs(fx(b)) else b"
   ]
  },
  {
   "cell_type": "markdown",
   "id": "executive-genome",
   "metadata": {},
   "source": [
    "## Question 2"
   ]
  },
  {
   "cell_type": "code",
   "execution_count": 62,
   "id": "juvenile-skill",
   "metadata": {},
   "outputs": [],
   "source": [
    "def q2_fx(x):\n",
    "    return x**6 - x - 1"
   ]
  },
  {
   "cell_type": "code",
   "execution_count": 63,
   "id": "exposed-broadcasting",
   "metadata": {},
   "outputs": [
    {
     "name": "stdout",
     "output_type": "stream",
     "text": [
      "iteration: 0\n",
      "a: 1, b: 2, c: 1.5\n",
      "f_a:-1.000000, f_b:61.000000, f_c:8.890625\n",
      "interval distance: 1\n",
      "\n",
      "iteration: 1\n",
      "a: 1, b: 1.5, c: 1.25\n",
      "f_a:-1.000000, f_b:8.890625, f_c:1.564697\n",
      "interval distance: 0.5\n",
      "\n",
      "iteration: 2\n",
      "a: 1, b: 1.25, c: 1.125\n",
      "f_a:-1.000000, f_b:1.564697, f_c:-0.097713\n",
      "interval distance: 0.25\n",
      "\n",
      "iteration: 3\n",
      "a: 1.125, b: 1.25, c: 1.1875\n",
      "f_a:-0.097713, f_b:1.564697, f_c:0.616653\n",
      "interval distance: 0.125\n",
      "\n",
      "iteration: 4\n",
      "a: 1.125, b: 1.1875, c: 1.15625\n",
      "f_a:-0.097713, f_b:0.616653, f_c:0.233269\n",
      "interval distance: 0.0625\n",
      "\n",
      "iteration: 5\n",
      "a: 1.125, b: 1.15625, c: 1.140625\n",
      "f_a:-0.097713, f_b:0.233269, f_c:0.061578\n",
      "interval distance: 0.03125\n",
      "\n",
      "iteration: 6\n",
      "a: 1.125, b: 1.140625, c: 1.1328125\n",
      "f_a:-0.097713, f_b:0.061578, f_c:-0.019576\n",
      "interval distance: 0.015625\n",
      "\n",
      "iteration: 7\n",
      "a: 1.1328125, b: 1.140625, c: 1.13671875\n",
      "f_a:-0.019576, f_b:0.061578, f_c:0.020619\n",
      "interval distance: 0.0078125\n",
      "\n",
      "Approximated root for equation x**6 - x - 1 is 1.1328125\n"
     ]
    }
   ],
   "source": [
    "root = bisection(q2_fx, (1, 2), accuracy=.01)\n",
    "print(f'Approximated root for equation x**6 - x - 1 is {root}')"
   ]
  },
  {
   "cell_type": "code",
   "execution_count": null,
   "id": "identified-chair",
   "metadata": {},
   "outputs": [],
   "source": []
  }
 ],
 "metadata": {
  "kernelspec": {
   "display_name": "Python 3",
   "language": "python",
   "name": "python3"
  },
  "language_info": {
   "codemirror_mode": {
    "name": "ipython",
    "version": 3
   },
   "file_extension": ".py",
   "mimetype": "text/x-python",
   "name": "python",
   "nbconvert_exporter": "python",
   "pygments_lexer": "ipython3",
   "version": "3.8.6"
  }
 },
 "nbformat": 4,
 "nbformat_minor": 5
}
