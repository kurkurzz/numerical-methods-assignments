{
 "cells": [
  {
   "cell_type": "code",
   "execution_count": 1,
   "id": "constitutional-medicine",
   "metadata": {},
   "outputs": [],
   "source": [
    "import sys\n",
    "import math"
   ]
  },
  {
   "cell_type": "markdown",
   "id": "moved-empire",
   "metadata": {},
   "source": [
    "## Question 1"
   ]
  },
  {
   "cell_type": "code",
   "execution_count": 2,
   "id": "quantitative-chapel",
   "metadata": {},
   "outputs": [],
   "source": [
    "def bisection(fx, interval, max_iteration=sys.maxsize, accuracy=None):\n",
    "\n",
    "    a, b = interval\n",
    "    \n",
    "    for i in range(max_iteration):\n",
    "        f_a = fx(a)\n",
    "        f_b = fx(b)\n",
    "\n",
    "        c = (a + b)/2\n",
    "        f_c = fx(c)\n",
    "        \n",
    "        epsilon = abs(a-b)\n",
    "        \n",
    "        print(f'iteration: {i}')\n",
    "        print(f'a: {a}, b: {b}, c: {c}')\n",
    "        print(f'f_a:{f_a:.6f}, f_b:{f_b:.6f}, f_c:{f_c:.6f}')\n",
    "        print(f'interval distance: {epsilon}')\n",
    "        \n",
    "        print()\n",
    "        \n",
    "        if (f_a*f_c) < 0:\n",
    "            b = c\n",
    "        elif (f_b*f_c) < 0:\n",
    "            a = c\n",
    "        if epsilon:        \n",
    "            if epsilon < accuracy:\n",
    "                break\n",
    "\n",
    "    return a if abs(fx(a)) < abs(fx(b)) else b"
   ]
  },
  {
   "cell_type": "code",
   "execution_count": 3,
   "id": "phantom-reply",
   "metadata": {},
   "outputs": [],
   "source": [
    "def bisection_sample_fx(x):\n",
    "    return x**2 - 3"
   ]
  },
  {
   "cell_type": "code",
   "execution_count": 4,
   "id": "registered-cream",
   "metadata": {},
   "outputs": [
    {
     "name": "stdout",
     "output_type": "stream",
     "text": [
      "iteration: 0\n",
      "a: 1, b: 2, c: 1.5\n",
      "f_a:-2.000000, f_b:1.000000, f_c:-0.750000\n",
      "interval distance: 1\n",
      "\n",
      "iteration: 1\n",
      "a: 1.5, b: 2, c: 1.75\n",
      "f_a:-0.750000, f_b:1.000000, f_c:0.062500\n",
      "interval distance: 0.5\n",
      "\n",
      "iteration: 2\n",
      "a: 1.5, b: 1.75, c: 1.625\n",
      "f_a:-0.750000, f_b:0.062500, f_c:-0.359375\n",
      "interval distance: 0.25\n",
      "\n",
      "iteration: 3\n",
      "a: 1.625, b: 1.75, c: 1.6875\n",
      "f_a:-0.359375, f_b:0.062500, f_c:-0.152344\n",
      "interval distance: 0.125\n",
      "\n",
      "iteration: 4\n",
      "a: 1.6875, b: 1.75, c: 1.71875\n",
      "f_a:-0.152344, f_b:0.062500, f_c:-0.045898\n",
      "interval distance: 0.0625\n",
      "\n",
      "iteration: 5\n",
      "a: 1.71875, b: 1.75, c: 1.734375\n",
      "f_a:-0.045898, f_b:0.062500, f_c:0.008057\n",
      "interval distance: 0.03125\n",
      "\n",
      "iteration: 6\n",
      "a: 1.71875, b: 1.734375, c: 1.7265625\n",
      "f_a:-0.045898, f_b:0.008057, f_c:-0.018982\n",
      "interval distance: 0.015625\n",
      "\n",
      "iteration: 7\n",
      "a: 1.7265625, b: 1.734375, c: 1.73046875\n",
      "f_a:-0.018982, f_b:0.008057, f_c:-0.005478\n",
      "interval distance: 0.0078125\n",
      "\n",
      "Approximate root for equation x**2-3 is 1.730469\n"
     ]
    }
   ],
   "source": [
    "root = bisection(bisection_sample_fx, (1, 2), accuracy=.01)\n",
    "print(f'Approximate root for equation x**2-3 is {root:.6f}')"
   ]
  },
  {
   "cell_type": "markdown",
   "id": "executive-genome",
   "metadata": {},
   "source": [
    "## Question 2"
   ]
  },
  {
   "cell_type": "code",
   "execution_count": 5,
   "id": "juvenile-skill",
   "metadata": {},
   "outputs": [],
   "source": [
    "def q2_fx(x):\n",
    "    return x**6 - x - 1"
   ]
  },
  {
   "cell_type": "code",
   "execution_count": 6,
   "id": "exposed-broadcasting",
   "metadata": {},
   "outputs": [
    {
     "name": "stdout",
     "output_type": "stream",
     "text": [
      "iteration: 0\n",
      "a: 1, b: 2, c: 1.5\n",
      "f_a:-1.000000, f_b:61.000000, f_c:8.890625\n",
      "interval distance: 1\n",
      "\n",
      "iteration: 1\n",
      "a: 1, b: 1.5, c: 1.25\n",
      "f_a:-1.000000, f_b:8.890625, f_c:1.564697\n",
      "interval distance: 0.5\n",
      "\n",
      "iteration: 2\n",
      "a: 1, b: 1.25, c: 1.125\n",
      "f_a:-1.000000, f_b:1.564697, f_c:-0.097713\n",
      "interval distance: 0.25\n",
      "\n",
      "iteration: 3\n",
      "a: 1.125, b: 1.25, c: 1.1875\n",
      "f_a:-0.097713, f_b:1.564697, f_c:0.616653\n",
      "interval distance: 0.125\n",
      "\n",
      "iteration: 4\n",
      "a: 1.125, b: 1.1875, c: 1.15625\n",
      "f_a:-0.097713, f_b:0.616653, f_c:0.233269\n",
      "interval distance: 0.0625\n",
      "\n",
      "iteration: 5\n",
      "a: 1.125, b: 1.15625, c: 1.140625\n",
      "f_a:-0.097713, f_b:0.233269, f_c:0.061578\n",
      "interval distance: 0.03125\n",
      "\n",
      "iteration: 6\n",
      "a: 1.125, b: 1.140625, c: 1.1328125\n",
      "f_a:-0.097713, f_b:0.061578, f_c:-0.019576\n",
      "interval distance: 0.015625\n",
      "\n",
      "iteration: 7\n",
      "a: 1.1328125, b: 1.140625, c: 1.13671875\n",
      "f_a:-0.019576, f_b:0.061578, f_c:0.020619\n",
      "interval distance: 0.0078125\n",
      "\n",
      "Approximate root for equation x**6-x-1 is 1.132812\n"
     ]
    }
   ],
   "source": [
    "root = bisection(q2_fx, (1, 2), accuracy=.01)\n",
    "print(f'Approximate root for equation x**6-x-1 is {root:.6f}')"
   ]
  },
  {
   "cell_type": "markdown",
   "id": "fitted-crossing",
   "metadata": {},
   "source": [
    "## Question 3"
   ]
  },
  {
   "cell_type": "code",
   "execution_count": 7,
   "id": "bright-injury",
   "metadata": {},
   "outputs": [],
   "source": [
    "def secant(fx, max_iteration, coord_0, coord_1):\n",
    "    x0, y0 = coord_0\n",
    "    x1, y1 = coord_1\n",
    "    for i in range(2, max_iteration):\n",
    "        print(f'iteration: {i}')\n",
    "        print(f'x{i-2}: {x0:.6f}, y{i-2}: {y0:.6f}')\n",
    "        print(f'x{i-1}: {x1:.6f}, y{i-1}: {y1:.6f}')\n",
    "        print()\n",
    "        \n",
    "        new_x = x1 - (((x1 - x0) / (y1-y0))*y1)\n",
    "        new_y = fx(new_x)\n",
    "        \n",
    "        x0, y0 = x1, y1\n",
    "        x1, y1 = new_x, new_y\n",
    "    \n",
    "    print(f'x{max_iteration-1}: {x1:.6f}, y{max_iteration-1}: {y1:.6f}')\n",
    "    return y1"
   ]
  },
  {
   "cell_type": "code",
   "execution_count": 8,
   "id": "mexican-words",
   "metadata": {},
   "outputs": [],
   "source": [
    "def secant_sample_fx(x):\n",
    "    return x**2 - 2"
   ]
  },
  {
   "cell_type": "code",
   "execution_count": 9,
   "id": "known-address",
   "metadata": {},
   "outputs": [
    {
     "name": "stdout",
     "output_type": "stream",
     "text": [
      "iteration: 2\n",
      "x0: 1.000000, y0: -1.000000\n",
      "x1: 1.500000, y1: 0.250000\n",
      "\n",
      "x2: 1.400000, y2: -0.040000\n",
      "Approximate answer for equation x**2-2 is -0.040000\n"
     ]
    }
   ],
   "source": [
    "root = secant(secant_sample_fx, 3, (1, -1), (1.5, 0.25))\n",
    "print(f'Approximate answer for equation x**2-2 is {root:.6f}')"
   ]
  },
  {
   "cell_type": "markdown",
   "id": "ignored-center",
   "metadata": {},
   "source": [
    "## Question 4"
   ]
  },
  {
   "cell_type": "code",
   "execution_count": 10,
   "id": "received-support",
   "metadata": {},
   "outputs": [],
   "source": [
    "def q4_fx(x):\n",
    "    return x**4 - 5"
   ]
  },
  {
   "cell_type": "code",
   "execution_count": 11,
   "id": "sophisticated-capability",
   "metadata": {},
   "outputs": [
    {
     "ename": "SyntaxError",
     "evalue": "invalid syntax (<ipython-input-11-f9e8ab380afc>, line 1)",
     "output_type": "error",
     "traceback": [
      "\u001b[1;36m  File \u001b[1;32m\"<ipython-input-11-f9e8ab380afc>\"\u001b[1;36m, line \u001b[1;32m1\u001b[0m\n\u001b[1;33m    root = secant(q4_fx, 5, (??, ??), (??, ??))\u001b[0m\n\u001b[1;37m                             ^\u001b[0m\n\u001b[1;31mSyntaxError\u001b[0m\u001b[1;31m:\u001b[0m invalid syntax\n"
     ]
    }
   ],
   "source": [
    "root = secant(q4_fx, 5, (??, ??), (??, ??))\n",
    "print(f'Approximate answer for equation x**2-2 is {root:.6f}')"
   ]
  },
  {
   "cell_type": "markdown",
   "id": "caring-qualification",
   "metadata": {},
   "source": [
    "## Question 5"
   ]
  },
  {
   "cell_type": "code",
   "execution_count": 12,
   "id": "assisted-black",
   "metadata": {},
   "outputs": [],
   "source": [
    "def q5_fx(x):\n",
    "    return math.exp(x) - (2 - x)**3"
   ]
  },
  {
   "cell_type": "code",
   "execution_count": 13,
   "id": "dental-observation",
   "metadata": {},
   "outputs": [
    {
     "name": "stdout",
     "output_type": "stream",
     "text": [
      "iteration: 2\n",
      "x0: 0.000000, y0: -7.000000\n",
      "x1: 5.000000, y1: 175.413159\n",
      "\n",
      "iteration: 3\n",
      "x1: 5.000000, y1: 175.413159\n",
      "x2: 0.191872, y2: -4.699845\n",
      "\n",
      "iteration: 4\n",
      "x2: 0.191872, y2: -4.699845\n",
      "x3: 0.317335, y3: -3.390773\n",
      "\n",
      "x4: 0.642309, y4: -0.601797\n",
      "Approximate answer for equation exp(x)-(2 - x)**3 is -0.601797\n"
     ]
    }
   ],
   "source": [
    "root = secant(q5_fx, 5, (0, q5_fx(0)), (5, q5_fx(5)))\n",
    "print(f'Approximate answer for equation exp(x)-(2 - x)**3 is {root:.6f}')"
   ]
  },
  {
   "cell_type": "code",
   "execution_count": null,
   "id": "sharp-lease",
   "metadata": {},
   "outputs": [],
   "source": []
  }
 ],
 "metadata": {
  "kernelspec": {
   "display_name": "Python 3",
   "language": "python",
   "name": "python3"
  },
  "language_info": {
   "codemirror_mode": {
    "name": "ipython",
    "version": 3
   },
   "file_extension": ".py",
   "mimetype": "text/x-python",
   "name": "python",
   "nbconvert_exporter": "python",
   "pygments_lexer": "ipython3",
   "version": "3.8.6"
  }
 },
 "nbformat": 4,
 "nbformat_minor": 5
}
